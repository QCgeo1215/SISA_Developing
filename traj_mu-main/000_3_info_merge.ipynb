{
 "cells": [
  {
   "cell_type": "code",
   "execution_count": 1,
   "id": "1595b0b4-9088-48af-8482-19aea487c4b7",
   "metadata": {},
   "outputs": [
    {
     "name": "stdout",
     "output_type": "stream",
     "text": [
      "429914\n",
      "429914\n"
     ]
    }
   ],
   "source": [
    "import pandas as pd\n",
    "\n",
    "# 读取两个CSV文件\n",
    "df_main = pd.read_csv('3-Slidng_Windows_Data_Clustering_Clean-sta.csv')\n",
    "df_kmeans = pd.read_csv('KMeans_Clustering_Results.csv')\n",
    "\n",
    "print(len(df_main))\n",
    "print(len(df_kmeans))\n"
   ]
  },
  {
   "cell_type": "code",
   "execution_count": 2,
   "id": "baf3d337-6289-423e-94a7-28f87432a566",
   "metadata": {},
   "outputs": [
    {
     "name": "stdout",
     "output_type": "stream",
     "text": [
      "已删除主文件中的原有 kmeans_cluster 列\n",
      "合并完成，结果已保存到 4-Slidng_Windows_Data_Clustering_Clean-sta-Cluster-Results.csv\n",
      "原始主文件记录数: 429914\n",
      "合并后文件记录数: 429914\n"
     ]
    }
   ],
   "source": [
    "\n",
    "\n",
    "# 确保trj_id在两个数据框中是相同的类型\n",
    "df_main['trj_id'] = df_main['trj_id'].astype(str)\n",
    "df_kmeans['trj_id'] = df_kmeans['trj_id'].astype(str)\n",
    "\n",
    "# 检查并删除主数据框中的kmeans_cluster列（如果存在）\n",
    "if 'kmeans_cluster' in df_main.columns:\n",
    "    df_main = df_main.drop(columns=['kmeans_cluster'])\n",
    "    print(\"已删除主文件中的原有 kmeans_cluster 列\")\n",
    "\n",
    "# 合并数据，保留主文件的所有行\n",
    "merged_df = pd.merge(df_main, df_kmeans, on='trj_id', how='left')\n",
    "\n",
    "# 检查是否有未匹配的trj_id\n",
    "unmatched = df_main[~df_main['trj_id'].isin(df_kmeans['trj_id'])]\n",
    "if not unmatched.empty:\n",
    "    print(f\"警告：{len(unmatched)} 条记录在KMeans结果中未找到匹配的trj_id\")\n",
    "\n",
    "# 保存合并后的文件\n",
    "output_filename = '4-Slidng_Windows_Data_Clustering_Clean-sta-Cluster-Results-test.csv'\n",
    "merged_df.to_csv(output_filename, index=False)\n",
    "\n",
    "print(f\"合并完成，结果已保存到 {output_filename}\")\n",
    "print(f\"原始主文件记录数: {len(df_main)}\")\n",
    "print(f\"合并后文件记录数: {len(merged_df)}\")"
   ]
  },
  {
   "cell_type": "code",
   "execution_count": null,
   "id": "c2d098f7-2501-4e66-8e7e-e3fe536cec23",
   "metadata": {},
   "outputs": [],
   "source": []
  }
 ],
 "metadata": {
  "kernelspec": {
   "display_name": "Python 3 (ipykernel)",
   "language": "python",
   "name": "python3"
  },
  "language_info": {
   "codemirror_mode": {
    "name": "ipython",
    "version": 3
   },
   "file_extension": ".py",
   "mimetype": "text/x-python",
   "name": "python",
   "nbconvert_exporter": "python",
   "pygments_lexer": "ipython3",
   "version": "3.8.10"
  }
 },
 "nbformat": 4,
 "nbformat_minor": 5
}
